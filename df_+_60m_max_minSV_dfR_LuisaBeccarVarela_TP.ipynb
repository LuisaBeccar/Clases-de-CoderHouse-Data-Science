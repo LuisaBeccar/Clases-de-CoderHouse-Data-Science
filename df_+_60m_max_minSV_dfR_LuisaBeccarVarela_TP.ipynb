{
  "nbformat": 4,
  "nbformat_minor": 0,
  "metadata": {
    "colab": {
      "provenance": [],
      "mount_file_id": "1xEJvJpnoahCVwlNeZq8YaVQoB-9KFU3X",
      "authorship_tag": "ABX9TyMnT/dzSQmlMPRS8TDtPg6h",
      "include_colab_link": true
    },
    "kernelspec": {
      "name": "python3",
      "display_name": "Python 3"
    },
    "language_info": {
      "name": "python"
    }
  },
  "cells": [
    {
      "cell_type": "markdown",
      "metadata": {
        "id": "view-in-github",
        "colab_type": "text"
      },
      "source": [
        "<a href=\"https://colab.research.google.com/github/LuisaBeccar/Clases-de-CoderHouse-Data-Science/blob/main/df_%2B_60m_max_minSV_dfR_LuisaBeccarVarela_TP.ipynb\" target=\"_parent\"><img src=\"https://colab.research.google.com/assets/colab-badge.svg\" alt=\"Open In Colab\"/></a>"
      ]
    },
    {
      "cell_type": "markdown",
      "source": [
        "**TP FINAL - CIENCIA DE DATOS 61140 - CODERCHOUSE 2024**\n",
        "\n",
        "LUISA BECCAR VARELA\n",
        "\n",
        "**BASE DE DATOS**: https://www.kaggle.com/datasets/reihanenamdari/breast-cancer\n",
        "\n",
        "**OBJETIVO**: predecir si una mujer estará viva a 60 meses del diagnosico de cancer de mama, segun las caracteristicas del mismo.\n"
      ],
      "metadata": {
        "id": "YKT1kHLPf4f0"
      }
    },
    {
      "cell_type": "code",
      "source": [
        "import pandas as pd\n",
        "import numpy as np\n",
        "from datetime import datetime\n",
        "import matplotlib.pyplot as plt\n",
        "import matplotlib as mpl\n",
        "import seaborn as sns\n",
        "from matplotlib import dates as mpl_dates\n",
        "from mpl_toolkits.mplot3d import Axes3D\n"
      ],
      "metadata": {
        "id": "feurUbXugZwh"
      },
      "execution_count": null,
      "outputs": []
    },
    {
      "cell_type": "code",
      "source": [
        "url = 'https://raw.githubusercontent.com/LuisaBeccar/Clases-de-CoderHouse-Data-Science/main/Breast_Cancer.csv'\n",
        "df = pd.read_csv(url)"
      ],
      "metadata": {
        "id": "TiXPwGCfSXFk"
      },
      "execution_count": null,
      "outputs": []
    },
    {
      "cell_type": "code",
      "source": [
        "# Agrego columna Sobrevida si \"survival months\" > 3 meses\n",
        "Sobrevida = []\n",
        "for i in df[\"Survival Months\"]: #para cada elemento de \"survival months\", evalua si es mayor a 60 meses (5 años) (TRUE) y el resultado booleano (TRUE O FALSE) agregalo a la lista \"Sobrevida\"\n",
        "    Sobrevida.append(i >= 60)\n",
        "Sobrevida = pd.Series(Sobrevida)\n",
        "df[\"Sobrevida\"] = Sobrevida\n",
        "\n",
        "# modificar el nombre de Reginol Node Positive por Regional Node Positive\n",
        "df.rename(columns={'Reginol Node Positive':'Regional Node Positive'}, inplace=True)\n",
        "\n",
        "# modificar el nombre de \"T Stage \" por \"T Stage\" sin espacio final\n",
        "df.rename(columns={'T Stage ':'T Stage'}, inplace=True)\n",
        "\n",
        "# modificar el nombre de \"differentiate\" por \"Differentiate\" sin espacio final\n",
        "df.rename(columns={'differentiate':'Differentiate'}, inplace=True)"
      ],
      "metadata": {
        "id": "7Bt8D_gW10T0"
      },
      "execution_count": null,
      "outputs": []
    },
    {
      "cell_type": "code",
      "source": [
        "# probando codigos para investigar la base de datos\n",
        "\n",
        "print(df.columns, \"\\n\",\n",
        "\n",
        "      df.dtypes, \"\\n\",\n",
        "\n",
        "      df.index, \"\\n\",\n",
        "\n",
        "      df.info(), \"\\n\",\n",
        "\n",
        "      df.describe(),\n",
        "      df.describe(include=object))\n"
      ],
      "metadata": {
        "id": "8PiShDq_j_Na",
        "colab": {
          "base_uri": "https://localhost:8080/"
        },
        "outputId": "dc27e07b-18cf-4c38-c593-aa7206b7b957",
        "collapsed": true
      },
      "execution_count": null,
      "outputs": [
        {
          "output_type": "stream",
          "name": "stdout",
          "text": [
            "<class 'pandas.core.frame.DataFrame'>\n",
            "RangeIndex: 4024 entries, 0 to 4023\n",
            "Data columns (total 17 columns):\n",
            " #   Column                  Non-Null Count  Dtype \n",
            "---  ------                  --------------  ----- \n",
            " 0   Age                     4024 non-null   int64 \n",
            " 1   Race                    4024 non-null   object\n",
            " 2   Marital Status          4024 non-null   object\n",
            " 3   T Stage                 4024 non-null   object\n",
            " 4   N Stage                 4024 non-null   object\n",
            " 5   6th Stage               4024 non-null   object\n",
            " 6   Differentiate           4024 non-null   object\n",
            " 7   Grade                   4024 non-null   object\n",
            " 8   A Stage                 4024 non-null   object\n",
            " 9   Tumor Size              4024 non-null   int64 \n",
            " 10  Estrogen Status         4024 non-null   object\n",
            " 11  Progesterone Status     4024 non-null   object\n",
            " 12  Regional Node Examined  4024 non-null   int64 \n",
            " 13  Regional Node Positive  4024 non-null   int64 \n",
            " 14  Survival Months         4024 non-null   int64 \n",
            " 15  Status                  4024 non-null   object\n",
            " 16  Sobrevida               4024 non-null   bool  \n",
            "dtypes: bool(1), int64(5), object(11)\n",
            "memory usage: 507.1+ KB\n",
            "Index(['Age', 'Race', 'Marital Status', 'T Stage', 'N Stage', '6th Stage',\n",
            "       'Differentiate', 'Grade', 'A Stage', 'Tumor Size', 'Estrogen Status',\n",
            "       'Progesterone Status', 'Regional Node Examined',\n",
            "       'Regional Node Positive', 'Survival Months', 'Status', 'Sobrevida'],\n",
            "      dtype='object') \n",
            " Age                        int64\n",
            "Race                      object\n",
            "Marital Status            object\n",
            "T Stage                   object\n",
            "N Stage                   object\n",
            "6th Stage                 object\n",
            "Differentiate             object\n",
            "Grade                     object\n",
            "A Stage                   object\n",
            "Tumor Size                 int64\n",
            "Estrogen Status           object\n",
            "Progesterone Status       object\n",
            "Regional Node Examined     int64\n",
            "Regional Node Positive     int64\n",
            "Survival Months            int64\n",
            "Status                    object\n",
            "Sobrevida                   bool\n",
            "dtype: object \n",
            " RangeIndex(start=0, stop=4024, step=1) \n",
            " None \n",
            "                Age   Tumor Size  Regional Node Examined  \\\n",
            "count  4024.000000  4024.000000             4024.000000   \n",
            "mean     53.972167    30.473658               14.357107   \n",
            "std       8.963134    21.119696                8.099675   \n",
            "min      30.000000     1.000000                1.000000   \n",
            "25%      47.000000    16.000000                9.000000   \n",
            "50%      54.000000    25.000000               14.000000   \n",
            "75%      61.000000    38.000000               19.000000   \n",
            "max      69.000000   140.000000               61.000000   \n",
            "\n",
            "       Regional Node Positive  Survival Months  \n",
            "count             4024.000000      4024.000000  \n",
            "mean                 4.158052        71.297962  \n",
            "std                  5.109331        22.921430  \n",
            "min                  1.000000         1.000000  \n",
            "25%                  1.000000        56.000000  \n",
            "50%                  2.000000        73.000000  \n",
            "75%                  5.000000        90.000000  \n",
            "max                 46.000000       107.000000            Race Marital Status T Stage N Stage 6th Stage  \\\n",
            "count    4024           4024    4024    4024      4024   \n",
            "unique      3              5       4       3         5   \n",
            "top     White        Married      T2      N1       IIA   \n",
            "freq     3413           2643    1786    2732      1305   \n",
            "\n",
            "                    Differentiate Grade   A Stage Estrogen Status  \\\n",
            "count                        4024  4024      4024            4024   \n",
            "unique                          4     4         2               2   \n",
            "top     Moderately differentiated     2  Regional        Positive   \n",
            "freq                         2351  2351      3932            3755   \n",
            "\n",
            "       Progesterone Status Status  \n",
            "count                 4024   4024  \n",
            "unique                   2      2  \n",
            "top               Positive  Alive  \n",
            "freq                  3326   3408  \n"
          ]
        }
      ]
    },
    {
      "cell_type": "code",
      "source": [
        "# Filtro por el que sobrevivio solo 1 mes (el minimo) y los que mayor tiempo registrado sobrevivieron (107meses)\n",
        "\n",
        "SVmin = df[\"Survival Months\"].min()\n",
        "#SVmin #1 mes\n",
        "minSV = df[df[\"Survival Months\"] == SVmin]\n",
        "\n",
        "# Filtro por los que van sobreviviendo lo maximo de tiempo registrado (107 meses) y describo\n",
        "\n",
        "SVmax = df[\"Survival Months\"].max()\n",
        "#SVmax # 107 meses\n",
        "maxSV = df[df[\"Survival Months\"] == SVmax]\n",
        "\n",
        "\n",
        "sobrevivientes = pd.DataFrame(maxSV)\n",
        "print(sobrevivientes.describe(include=object), sobrevivientes.describe())\n"
      ],
      "metadata": {
        "id": "x1qAamDxfEqc",
        "colab": {
          "base_uri": "https://localhost:8080/"
        },
        "outputId": "c847fbbf-03db-4272-ad38-52f124f73b69",
        "collapsed": true
      },
      "execution_count": null,
      "outputs": [
        {
          "output_type": "stream",
          "name": "stdout",
          "text": [
            "         Race Marital Status T Stage N Stage 6th Stage  \\\n",
            "count      61             61      61      61        61   \n",
            "unique      3              4       4       3         5   \n",
            "top     White        Married      T2      N1       IIB   \n",
            "freq       56             39      31      43        21   \n",
            "\n",
            "                    Differentiate Grade   A Stage Estrogen Status  \\\n",
            "count                          61    61        61              61   \n",
            "unique                          3     3         2               2   \n",
            "top     Moderately differentiated     2  Regional        Positive   \n",
            "freq                           38    38        58              54   \n",
            "\n",
            "       Progesterone Status Status  \n",
            "count                   61     61  \n",
            "unique                   2      1  \n",
            "top               Positive  Alive  \n",
            "freq                    45     61                Age  Tumor Size  Regional Node Examined  Regional Node Positive  \\\n",
            "count  61.000000   61.000000               61.000000               61.000000   \n",
            "mean   53.524590   28.229508               14.295082                3.229508   \n",
            "std     7.820074   19.341142                8.087736                3.159079   \n",
            "min    38.000000    8.000000                1.000000                1.000000   \n",
            "25%    48.000000   15.000000                9.000000                1.000000   \n",
            "50%    53.000000   23.000000               14.000000                2.000000   \n",
            "75%    59.000000   33.000000               20.000000                4.000000   \n",
            "max    69.000000  100.000000               40.000000               14.000000   \n",
            "\n",
            "       Survival Months  \n",
            "count             61.0  \n",
            "mean             107.0  \n",
            "std                0.0  \n",
            "min              107.0  \n",
            "25%              107.0  \n",
            "50%              107.0  \n",
            "75%              107.0  \n",
            "max              107.0  \n"
          ]
        }
      ]
    },
    {
      "cell_type": "markdown",
      "source": [
        "## 5 AÑOS (60 MESES) - FILTRO EN DOS DF <br>\n",
        "mas60meses LOS QUE VIVIERON MAS DE 5 AÑOS POST DIAGNOSTICO <BR>\n",
        "menos60meses LOS QUE NO VIVIERON MAS DE 5 AÑOS POST DIAGNOSTICO."
      ],
      "metadata": {
        "id": "lfPkQ2RjXycV"
      }
    },
    {
      "cell_type": "code",
      "source": [
        "# Filtro por los que sobrevivireron 5 años (60 meses) y los que no llegaron a los 5 meses.\n",
        "# Disclaimer: puede haber registros que sobrevivieron mas de 5 años pero ya murieron\n",
        "# Y obviamente tambien hay registros que van sobreviviendo menos de 5 años, porque su diagnostico se habra hecho hace menos de 5 años\n",
        "\n",
        "\n",
        "mas60meses = df[df[\"Survival Months\"] >= 60]\n",
        "#meas60meses\n",
        "print(\"VIVIERON MAS DE 5 AÑOS\", mas60meses.describe(include=object).T, \"\\n\", \"\\n\", mas60meses.describe().T)\n",
        "\n",
        "print( \"\\n\", \"------------------------------\", \"\\n\" )\n",
        "menos60meses = df[df[\"Survival Months\"] <60]\n",
        "#menos60meses\n",
        "print(\"VIVIERON MENOS DE 5 AÑOS\", menos60meses.describe(include=object).T, \"\\n\", \"\\n\", menos60meses.describe().T)"
      ],
      "metadata": {
        "id": "at7rV8uWcG_X",
        "colab": {
          "base_uri": "https://localhost:8080/"
        },
        "outputId": "4ab2cf05-cce0-42fb-9ccb-e7890a3fbb70",
        "collapsed": true
      },
      "execution_count": null,
      "outputs": [
        {
          "output_type": "stream",
          "name": "stdout",
          "text": [
            "VIVIERON MAS DE 5 AÑOS                     count unique                        top  freq\n",
            "Race                 2821      3                      White  2401\n",
            "Marital Status       2821      5                    Married  1865\n",
            "T Stage              2821      4                         T2  1229\n",
            "N Stage              2821      3                         N1  1989\n",
            "6th Stage            2821      5                        IIA   980\n",
            "Differentiate        2821      4  Moderately differentiated  1686\n",
            "Grade                2821      4                          2  1686\n",
            "A Stage              2821      2                   Regional  2773\n",
            "Estrogen Status      2821      2                   Positive  2672\n",
            "Progesterone Status  2821      2                   Positive  2384\n",
            "Status               2821      2                      Alive  2654 \n",
            " \n",
            "                          count       mean        std   min   25%   50%   75%  \\\n",
            "Age                     2821.0  53.921305   8.867994  30.0  47.0  54.0  61.0   \n",
            "Tumor Size              2821.0  29.445232  20.282603   1.0  16.0  24.0  35.0   \n",
            "Regional Node Examined  2821.0  14.269762   7.963563   1.0   9.0  14.0  19.0   \n",
            "Regional Node Positive  2821.0   3.819922   4.670813   1.0   1.0   2.0   4.0   \n",
            "Survival Months         2821.0  83.057426  13.821131  60.0  71.0  83.0  95.0   \n",
            "\n",
            "                          max  \n",
            "Age                      69.0  \n",
            "Tumor Size              140.0  \n",
            "Regional Node Examined   61.0  \n",
            "Regional Node Positive   41.0  \n",
            "Survival Months         107.0  \n",
            "\n",
            " ------------------------------ \n",
            "\n",
            "VIVIERON MENOS DE 5 AÑOS                     count unique                        top  freq\n",
            "Race                 1203      3                      White  1012\n",
            "Marital Status       1203      5                    Married   778\n",
            "T Stage              1203      4                         T2   557\n",
            "N Stage              1203      3                         N1   743\n",
            "6th Stage            1203      5                       IIIA   330\n",
            "Differentiate        1203      4  Moderately differentiated   665\n",
            "Grade                1203      4                          2   665\n",
            "A Stage              1203      2                   Regional  1159\n",
            "Estrogen Status      1203      2                   Positive  1083\n",
            "Progesterone Status  1203      2                   Positive   942\n",
            "Status               1203      2                      Alive   754 \n",
            " \n",
            "                          count       mean        std   min   25%   50%   75%  \\\n",
            "Age                     1203.0  54.091438   9.185006  30.0  47.0  54.0  62.0   \n",
            "Tumor Size              1203.0  32.885287  22.790775   1.0  17.0  25.0  40.0   \n",
            "Regional Node Examined  1203.0  14.561929   8.410047   1.0   9.0  14.0  19.0   \n",
            "Regional Node Positive  1203.0   4.950956   5.940646   1.0   1.0   2.0   6.0   \n",
            "Survival Months         1203.0  43.722361  14.989882   1.0  36.0  50.0  55.0   \n",
            "\n",
            "                          max  \n",
            "Age                      69.0  \n",
            "Tumor Size              140.0  \n",
            "Regional Node Examined   57.0  \n",
            "Regional Node Positive   46.0  \n",
            "Survival Months          59.0  \n"
          ]
        }
      ]
    },
    {
      "cell_type": "code",
      "source": [
        "# Mismo filtro pero usando la columna creada por mi \"Sobrevida\", que ya resume si vivio mas o menos de 60 meses, en un tipo booleano\n",
        "\n",
        "mas60meses = df[df[\"Sobrevida\"] == True]\n",
        "#meas60meses\n",
        "print(\"VIVIERON MAS DE 5 AÑOS\", mas60meses.describe(include=object).T, \"\\n\", \"\\n\", mas60meses.describe().T)\n",
        "\n",
        "print( \"\\n\", \"------------------------------\", \"\\n\" )\n",
        "menos60meses = df[df[\"Sobrevida\"] == False]\n",
        "#menos60meses\n",
        "print(\"VIVIERON MENOS DE 5 AÑOS\", menos60meses.describe(include=object).T, \"\\n\", \"\\n\", menos60meses.describe().T)"
      ],
      "metadata": {
        "colab": {
          "base_uri": "https://localhost:8080/"
        },
        "id": "cL-IB2mqZOom",
        "outputId": "9ea2aa45-4e06-4ebf-bcad-798d88c8506f",
        "collapsed": true
      },
      "execution_count": null,
      "outputs": [
        {
          "output_type": "stream",
          "name": "stdout",
          "text": [
            "VIVIERON MAS DE 5 AÑOS                     count unique                        top  freq\n",
            "Race                 2821      3                      White  2401\n",
            "Marital Status       2821      5                    Married  1865\n",
            "T Stage              2821      4                         T2  1229\n",
            "N Stage              2821      3                         N1  1989\n",
            "6th Stage            2821      5                        IIA   980\n",
            "Differentiate        2821      4  Moderately differentiated  1686\n",
            "Grade                2821      4                          2  1686\n",
            "A Stage              2821      2                   Regional  2773\n",
            "Estrogen Status      2821      2                   Positive  2672\n",
            "Progesterone Status  2821      2                   Positive  2384\n",
            "Status               2821      2                      Alive  2654 \n",
            " \n",
            "                          count       mean        std   min   25%   50%   75%  \\\n",
            "Age                     2821.0  53.921305   8.867994  30.0  47.0  54.0  61.0   \n",
            "Tumor Size              2821.0  29.445232  20.282603   1.0  16.0  24.0  35.0   \n",
            "Regional Node Examined  2821.0  14.269762   7.963563   1.0   9.0  14.0  19.0   \n",
            "Regional Node Positive  2821.0   3.819922   4.670813   1.0   1.0   2.0   4.0   \n",
            "Survival Months         2821.0  83.057426  13.821131  60.0  71.0  83.0  95.0   \n",
            "\n",
            "                          max  \n",
            "Age                      69.0  \n",
            "Tumor Size              140.0  \n",
            "Regional Node Examined   61.0  \n",
            "Regional Node Positive   41.0  \n",
            "Survival Months         107.0  \n",
            "\n",
            " ------------------------------ \n",
            "\n",
            "VIVIERON MENOS DE 5 AÑOS                     count unique                        top  freq\n",
            "Race                 1203      3                      White  1012\n",
            "Marital Status       1203      5                    Married   778\n",
            "T Stage              1203      4                         T2   557\n",
            "N Stage              1203      3                         N1   743\n",
            "6th Stage            1203      5                       IIIA   330\n",
            "Differentiate        1203      4  Moderately differentiated   665\n",
            "Grade                1203      4                          2   665\n",
            "A Stage              1203      2                   Regional  1159\n",
            "Estrogen Status      1203      2                   Positive  1083\n",
            "Progesterone Status  1203      2                   Positive   942\n",
            "Status               1203      2                      Alive   754 \n",
            " \n",
            "                          count       mean        std   min   25%   50%   75%  \\\n",
            "Age                     1203.0  54.091438   9.185006  30.0  47.0  54.0  62.0   \n",
            "Tumor Size              1203.0  32.885287  22.790775   1.0  17.0  25.0  40.0   \n",
            "Regional Node Examined  1203.0  14.561929   8.410047   1.0   9.0  14.0  19.0   \n",
            "Regional Node Positive  1203.0   4.950956   5.940646   1.0   1.0   2.0   6.0   \n",
            "Survival Months         1203.0  43.722361  14.989882   1.0  36.0  50.0  55.0   \n",
            "\n",
            "                          max  \n",
            "Age                      69.0  \n",
            "Tumor Size              140.0  \n",
            "Regional Node Examined   57.0  \n",
            "Regional Node Positive   46.0  \n",
            "Survival Months          59.0  \n"
          ]
        }
      ]
    },
    {
      "cell_type": "markdown",
      "source": [
        "Asi tengo las bases <br>\n",
        "- df: de la original con los cambios de nombre de ciertas columnas que estaban mal escritas y agregandoles Sobrevids\n",
        "- mas60meses: df filtrada por los que sobrevivieron mas de 60 meses\n",
        "- menos60meses: df filtrada por los que sobrevivieron menos de 60 meses\n",
        "- maxSV: los que sobrevivieron 107 meses (lo maximo registrado)\n",
        "- minSV: el que sobrevivio lo minimo registrado (1 mes)"
      ],
      "metadata": {
        "id": "LA8Ww8KJoU6c"
      }
    },
    {
      "cell_type": "markdown",
      "source": [
        "# Atributos categoricos transformacion"
      ],
      "metadata": {
        "id": "35RcKmNHrn1L"
      }
    },
    {
      "cell_type": "code",
      "source": [
        "# Para tener ordenado los atributos categoricos qué contienen\n",
        "\n",
        "# Seleccionar solo las columnas de tipo objeto\n",
        "obj_cols = df.select_dtypes(include='object')\n",
        "\n",
        "for col in obj_cols.columns:\n",
        "    unique_values = df[col].unique()\n",
        "    num_categories = len(unique_values)\n",
        "    print(col,\": \", num_categories, \": \", unique_values)\n",
        "    print('---')\n"
      ],
      "metadata": {
        "colab": {
          "base_uri": "https://localhost:8080/"
        },
        "id": "wdbHK1zkBZIC",
        "outputId": "efc4a053-a16a-4005-90f9-812ce6387a71",
        "collapsed": true
      },
      "execution_count": null,
      "outputs": [
        {
          "output_type": "stream",
          "name": "stdout",
          "text": [
            "Race :  3 :  ['White' 'Black' 'Other']\n",
            "---\n",
            "Marital Status :  5 :  ['Married' 'Divorced' 'Single ' 'Widowed' 'Separated']\n",
            "---\n",
            "T Stage :  4 :  ['T1' 'T2' 'T3' 'T4']\n",
            "---\n",
            "N Stage :  3 :  ['N1' 'N2' 'N3']\n",
            "---\n",
            "6th Stage :  5 :  ['IIA' 'IIIA' 'IIIC' 'IIB' 'IIIB']\n",
            "---\n",
            "Differentiate :  4 :  ['Poorly differentiated' 'Moderately differentiated' 'Well differentiated'\n",
            " 'Undifferentiated']\n",
            "---\n",
            "Grade :  4 :  ['3' '2' '1' ' anaplastic; Grade IV']\n",
            "---\n",
            "A Stage :  2 :  ['Regional' 'Distant']\n",
            "---\n",
            "Estrogen Status :  2 :  ['Positive' 'Negative']\n",
            "---\n",
            "Progesterone Status :  2 :  ['Positive' 'Negative']\n",
            "---\n",
            "Status :  2 :  ['Alive' 'Dead']\n",
            "---\n"
          ]
        }
      ]
    },
    {
      "cell_type": "code",
      "source": [
        "# creo una nueva base a la cual voy a hacerle modificaciones en los datos util para luego ML\n",
        "\n",
        "dfR = df\n",
        "\n",
        "#Reemplazando valores, de una columna especifica guardando la columna pisandola en el mismo dataframe\n",
        "\n",
        "dfR[\"Grade\"] = dfR[\"Grade\"].replace(to_replace=['3','2','1',' anaplastic; Grade IV'],value=[2,1,0,3])\n",
        "dfR = dfR.replace(to_replace=['White','Black','Other',\n",
        "                              'Married','Divorced','Single ','Widowed','Separated',\n",
        "                              'T1', 'T2', 'T3', 'T4',\n",
        "                              'N1','N2','N3',\n",
        "                              'IIA','IIIA','IIIC','IIB','IIIB',\n",
        "                              'Poorly differentiated','Moderately differentiated','Well differentiated','Undifferentiated',\n",
        "                              'Alive', 'Dead',\n",
        "                              'Positive', 'Negative',\n",
        "                              'Regional', 'Distant'],\n",
        "                  value=[0,1,2, 0,1,2,3,4, 0,1,2,3, 0,1,2, 0,2,4,1,3, 0,1,2,3, 0,1, 0,1,  0,1])\n",
        "\n",
        "dfR.info() # todos int\n",
        "#dfR.columns\n",
        "dfR[['Race', 'Marital Status', 'T Stage ', 'N Stage', '6th Stage','differentiate',\n",
        "     'Grade', 'A Stage', 'Estrogen Status','Progesterone Status', 'Status']] = dfR[['Race', 'Marital Status', 'T Stage ', 'N Stage', '6th Stage',\n",
        "                                                                                    'differentiate', 'Grade', 'A Stage', 'Estrogen Status',\n",
        "                                                                                    'Progesterone Status', 'Status']].astype('category')\n",
        "dfR.info() # cambie los correspondientes a category\n",
        "\n",
        "\n"
      ],
      "metadata": {
        "id": "KcUCcHzVrK36"
      },
      "execution_count": null,
      "outputs": []
    },
    {
      "cell_type": "code",
      "source": [
        "# el ID de los pacientes podria ser el index, lo vamos a extraer y renombrar para poder comprobar su cardinalidad\n",
        "dfR.reset_index(inplace=True)\n",
        "dfR.rename(columns={'index':'ID'}, inplace=True) # seri alo mismo que df = df.rename(columns={'index':'ID'})\n",
        "dfR"
      ],
      "metadata": {
        "id": "nXQKptW6rhpX"
      },
      "execution_count": null,
      "outputs": []
    },
    {
      "cell_type": "markdown",
      "source": [
        "# Estadistica"
      ],
      "metadata": {
        "id": "OHpGdyrmrjXe"
      }
    },
    {
      "cell_type": "code",
      "source": [
        "# Estadistica de tamaños tumorales muestrales\n",
        "\n",
        "df['Tumor Size'].std().round(1) # 21.1\n",
        "df['Tumor Size'].mean().round(1) # 30.5\n",
        "df['Tumor Size'].median().round(1) # 25\n",
        "# el desvio estandar del Tamaño Tumoral de mi muestra es 21.1, la media es 30.5, mediana 25mm\n",
        "\n",
        "coef_var = df[\"Tumor Size\"].std() / df['Tumor Size'].mean() *100\n",
        "coef_var # 69.3 me dice que es muy heterogenea en cuanto a tamaños tumorales mi muestra\n"
      ],
      "metadata": {
        "colab": {
          "base_uri": "https://localhost:8080/"
        },
        "id": "3o9MOgFjXdKk",
        "outputId": "8d00a02e-bc19-4dc8-c735-f1ceac5103b5"
      },
      "execution_count": null,
      "outputs": [
        {
          "output_type": "execute_result",
          "data": {
            "text/plain": [
              "69.30476168824006"
            ]
          },
          "metadata": {},
          "execution_count": 20
        }
      ]
    },
    {
      "cell_type": "code",
      "source": [
        "# Estadistica de edades muestrales\n",
        "\n",
        "\"\"\"\n",
        "Un valor de desviación estándar más alto indica una mayor dispersión de los datos.\n",
        "Desvios estandard bajos son menor dispersion de los datos\n",
        "\"\"\"\n",
        "\n",
        "df['Age'].std().round(1) # desvio estandar 9\n",
        "df['Age'].mean().round(1) # media de edades 54\n",
        "df['Age'].median().round(1) # mediana 54\n",
        "\n",
        "coef_var = df[\"Age\"].std() / df['Age'].mean() *100\n",
        "coef_var # 16.6 es menor a 30% entonces seria una muestra bastante homogenea en cuanto a las edades\n"
      ],
      "metadata": {
        "colab": {
          "base_uri": "https://localhost:8080/"
        },
        "id": "bIOcb36oaGSU",
        "outputId": "a60be4ed-63f6-4ca4-fdc3-21731de05a45"
      },
      "execution_count": null,
      "outputs": [
        {
          "output_type": "execute_result",
          "data": {
            "text/plain": [
              "16.60695671201405"
            ]
          },
          "metadata": {},
          "execution_count": 19
        }
      ]
    },
    {
      "cell_type": "code",
      "source": [
        "# Valores de correlacion con Numpy : ninguno parece correlacionar\n",
        "\n",
        "#np.corrcoef(df[\"Tumor Size\"], df[\"Regional Node Positive\"]) #0.24\n",
        "#np.corrcoef(df[\"Regional Node Examined\"], df[\"Regional Node Positive\"]) #0.41\n",
        "#np.corrcoef(df[\"Tumor Size\"], df[\"Survival Months\"]) # -0.08\n",
        "#np.corrcoef(df[\"Age\"], df[\"Survival Months\"]) #-0,009\n",
        "#np.corrcoef(df[\"Tumor Size\"], df[\"Age\"]) #-0,07\n",
        "#np.corrcoef(df[\"Regional Node Examined\"], df[\"Tumor Size\"]) #0.1\n"
      ],
      "metadata": {
        "colab": {
          "base_uri": "https://localhost:8080/"
        },
        "id": "kYfdqTmj6fjW",
        "outputId": "3114297c-ef16-48c6-be62-8fc092b20879"
      },
      "execution_count": null,
      "outputs": [
        {
          "output_type": "execute_result",
          "data": {
            "text/plain": [
              "array([[1.       , 0.1043518],\n",
              "       [0.1043518, 1.       ]])"
            ]
          },
          "metadata": {},
          "execution_count": 30
        }
      ]
    }
  ]
}